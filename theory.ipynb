{
 "cells": [
  {
   "cell_type": "markdown",
   "metadata": {},
   "source": [
    "# Big Data y Machine Learning con Python\n",
    "\n",
    "## Parte teorica\n",
    "\n",
    "### Que es el Big Data\n",
    "\n",
    "Al principio, los unicos datos que se manejaban eran recolectados por algunas personas y se incluian en pequeñas bases de datos o en simples hojas de calculo.\n",
    "\n",
    "Algunos años mas tarde, cada usuario empezo a generar sus propios datos a traves de, por ejemplo, las redes sociales, y el volumen de los mismos se incremento de forma sustancial\n",
    "\n",
    "Y en los ultimos años hemos asistido a una verdadera explosion de la cantidad de datos que generamos con la popularizacion de los smart phones que recopilan datos de cada usuario gracias a los sensores que incorporan, como el GPS. Ademas, estos sensores se añaden cada dia a mas dispositivod, desde relojes hasta frigorificos, e incluso a la ropa. Y esta imparable generacion de datos no hace sino multiplicarse cada dia y es previsible que siga haciendolo con la llegada de nuevos dispositivos (por ejemplo los coches autonomos).\n",
    "\n",
    "A toda esta cantidad de datos y a las herramientas que usamos para gestionarlos es a lo que llamamos Big Data.\n",
    "\n",
    "El modo de acceder a todos estos datos tambien puede ser muy diferente. Algunas veces los recibiremos en tiempo real por Internet y otras se nos proporcionaran directamente un archivo que los contenga.\n",
    "\n",
    "Tambien es posible acceder a una gran cantidad de datos almacenados y a los que nos proporcionan acceso diferntes fuentes.\n",
    "\n",
    "En este sentido podemos destacar la idea de Open Data que se basa en la premisa de que los datos deben ser accesibles para todo el mundo y todo el mundo debe tener el derecho de usarlos y publicarlos, sin ningun tipo de restriccion de copyright, patentes u otros mecanismos de control. Esto es especialmente cierto en el caso de los datos recopilados por los Gobiernos a traves de los años. Estos datos no pertenecen al Gobierno, sino que pertenecen a los ciudadanos, asi que mucho gobiernos se han adherido a esta idea y han creado sitios web en los que es posible acceder a estos datos. Algunos ejemplos de estos sitio web son:\n",
    "\n",
    "\tEspaña: http://datos.gob.es/\n",
    "\tIrlanda: https://data.gov.ie/\n",
    "\tEEUU: https://www.data.gov/\n",
    "\tFrancia: https://www.data.gouv.fr/\n",
    "    \n",
    "En cualquier caso el acceso a este tipo de datos no siempre es facil ni se conoce de antemano como los vamos a encontrar, por lo que Tim Berners-Lee propuso un sistema de estrellas para saber como de acccesible es una fuente:\n",
    "\n",
    "    Una estrella: Datos accesibles en cualquier tipo de formato\n",
    "    Dos estrellas: Datos accesibles organizados en un formato propietario (Datos en Excel)\n",
    "    Tres estrellas: Datos accesibles organizados en un formato no propietario (csv en lugar de Excel)\n",
    "    Cuatro estrellas: Los datos ademas incluyen una URL unica y los datos se estructuran bajo el estandar W3C\n",
    "    Cinco estrellas: Los datos ademas estan enlazados con otros datos son una estructura similar.\n",
    "    \n",
    "### Que es el Machine Learning\n",
    "\n",
    "El Machine Learning, o aprendizaje automatico, se refiere a la ciencia que permite a los ordenadores aprender sin que hayan sido explicitamente programados para algo, sino que son capaces de generalizar comportamientos a partir de una información suministrada en forma de ejemplos, de este modo son capaces de utilzar su experiencia para tomar decisiones futuras mas acertadas\n",
    "\n",
    "Existen varias modos de desarrollar este tipo de aprendizaje, pero las mas usuales son:\n",
    "\n",
    " * **Aprendizaje supervisado:** Se le proporcionana al programa una serie de datos que incluyen la solucion correcta. El programa aprendera de ellos y despues sera capaz de generalizar una solucion para otra serie de datos que no la incluyen.<br><br>\n",
    " * **Aprendizaje no supervisado:** Solo se le proporciona una serie de datos al programa que el mismo debe clasificar en grupos encontrando patrones en los mismos. Esto es muy utli por ejemplo en marketing para poder segmentar el mercado en diferentes nichos.  \n",
    " Los humanos usamos este tipo de aprendizaje para aprender a hablar. Al principio solo escuchamos sonidos que no somos capaces de entender, pero poco a poco vamos reconociendo patrones... algo parecido es lo que yo he hecho durante estos tres meses en Dublin<br><br>  \n",
    " * **Aprendizaje por refuerzo:** Esta clase de entrenamiento se basa en la tecnica de ensayo/error. El programa predice una respuesta y se le entrega la solucion, cuantas mas veces se ejecute mas posiblidad de acierto tendra. Es lo mismo que nosotros hacemos en ciertos juegos, probamos una estrategia y vemos su resultado y asi en siguiente turno podemos mejorarla.\n",
    "\n",
    "Encontraremos otros problemas, conceptos y herramientas del Machine Learning en la parte practica y tratare de explicarlos encontes.\n",
    "\n",
    "### Competiciones de Kaggle\n",
    "\n",
    "En el año 2006 Netflix hizo publico un concurso para mejorar su propio algoritmos de recomendacion de peliculas.\n",
    "\n",
    "Netflix penso, con buen criterio, que era mejor y conseguiria mejores resultados con un concurso de premio espectacular (1.000.000 de dolares) que pagando ese dinero a una compañia que hiciese el trabajo.\n",
    "\n",
    "El concurso se hizo muy popular y se formaron gran cantidad de equipos que lucharon por alzarse con el premio hasta que finalmente uno de ellos lo logro en el añ0 2009... y bueno, la verdad es que Netflix nunca llego a utilizar ese algoritmo por el que pago un millon de dolares, pero bueno, eso ya es otra historia.\n",
    "\n",
    "El caso es que aquella competicion fue el punto partida de Kaggle (https://www.kaggle.com/), una plataforma que permite a las empresas la posibilidad de organizar competiciones similares y ofrece a los participantes herramientas para probar sus soluciones.\n",
    "\n",
    "Existen otras plataformas similares como TopCoder (https://www.topcoder.com/), pero claramente Klagger es la mas popular, y mas despues de que fuera adquirida en marzo de este mismo año por Google.\n"
   ]
  },
  {
   "cell_type": "code",
   "execution_count": null,
   "metadata": {
    "collapsed": true
   },
   "outputs": [],
   "source": []
  }
 ],
 "metadata": {
  "kernelspec": {
   "display_name": "Python 3",
   "language": "python",
   "name": "python3"
  },
  "language_info": {
   "codemirror_mode": {
    "name": "ipython",
    "version": 3
   },
   "file_extension": ".py",
   "mimetype": "text/x-python",
   "name": "python",
   "nbconvert_exporter": "python",
   "pygments_lexer": "ipython3",
   "version": "3.6.0"
  }
 },
 "nbformat": 4,
 "nbformat_minor": 2
}
